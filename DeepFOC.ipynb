{
 "cells": [
  {
   "cell_type": "markdown",
   "metadata": {},
   "source": [
    "# Solving the Buffer-Stock Model with Deep Learning"
   ]
  },
  {
   "cell_type": "markdown",
   "metadata": {},
   "source": [
    "## 1. Imports"
   ]
  },
  {
   "cell_type": "code",
   "execution_count": 151,
   "metadata": {},
   "outputs": [],
   "source": [
    "import os\n",
    "os.environ['KMP_DUPLICATE_LIB_OK'] = 'TRUE' # without this Python may crash when plotting from matplotlib\n",
    "import numpy as np\n",
    "import torch \n",
    "import matplotlib.pyplot as plt\n",
    "import EconDLSolvers\n",
    "from consav.quadrature import log_normal_gauss_hermite\n",
    "from dynamic_programming.BufferStockModelEGM import BufferStockModelEGMClass"
   ]
  },
  {
   "cell_type": "markdown",
   "metadata": {},
   "source": [
    "## 2. Model"
   ]
  },
  {
   "cell_type": "markdown",
   "metadata": {},
   "source": [
    "We are going to solve a **simple buffer-stock model**.\n",
    "\n",
    "1. Two states: cash-on-hand $m_t$ and persistent income $p_t$\n",
    "2. Two shocks $\\psi_t \\sim \\log \\mathcal{N}\\left(-\\frac{1}{2}\\sigma_{\\psi}^2,\\sigma_{\\psi}^2\\right)$, and $\\xi_t \\sim \\log \\mathcal{N}\\left(-\\frac{1}{2}\\sigma_{\\xi}^2,\\sigma_{\\xi^2}\\right)$\n",
    "3. A single choice: consumption $c_t$, or equivalently the savings rate, $a_t\\in[0,1]$"
   ]
  },
  {
   "cell_type": "markdown",
   "metadata": {},
   "source": [
    "The utility function is\n",
    "\n",
    "$$\n",
    "u(c_t) = \\log (c_t)\n",
    "$$"
   ]
  },
  {
   "cell_type": "markdown",
   "metadata": {},
   "source": [
    "The bellman equation is\n",
    "\n",
    "$$\n",
    "\\begin{align}\n",
    "v_t(m_t,p_t) &= \\underset{a_t\\in[0,1]}{\\max} \\ u(c_t) + \\beta \\mathbb{E}_t[v_{t+1}(m_{t+1},p_{t+1})] \\\\\n",
    "&\\text{s.t}  \\nonumber \\\\\n",
    "c_t &= a_t m_t\\\\ \n",
    "\\overline{b}_t &= m_t - c_t \\\\ \n",
    "p_{t+1}&=p_t^{\\rho} \\xi_{t+1} \\\\\n",
    "m_{t+1} &= (1+r) \\overline{b}_t + p_{t+1}\\psi_{t+1} \n",
    "\\end{align}\n",
    "$$"
   ]
  },
  {
   "cell_type": "markdown",
   "metadata": {},
   "source": [
    "## 3. Defining the model class"
   ]
  },
  {
   "cell_type": "markdown",
   "metadata": {},
   "source": [
    "First define the model class based on the **DLSolverclass** from the package."
   ]
  },
  {
   "cell_type": "code",
   "execution_count": null,
   "metadata": {},
   "outputs": [],
   "source": [
    "class Model(EconDLSolvers.DLSolverClass): # inherit from DLSolverClass\n",
    "\n",
    "    # setup and allocate\n",
    "    def setup(self): pass\n",
    "    def allocate(self): pass\n",
    "    def setup_train(self): pass\n",
    "    def allocate_train(self): pass\n",
    "\n",
    "    # draw\n",
    "    def draw_initial_states(self): pass\n",
    "    def draw_shocks(self): pass\n",
    "\n",
    "    # transition\n",
    "    def outcomes(self): pass # states, actions -> (intermediary) outcomes\n",
    "    def state_trans_pd(self): pass # states, actions, outcomes -> post-decision states\n",
    "    def state_trans(self): pass # post-decision states, shocks -> next-period states\n",
    "\n",
    "    # reward\n",
    "    def reward(self): pass # utility\n",
    "\n",
    "    # DeepFOC specific\n",
    "    def quad(self): pass # approximate expectation with quadrature \n",
    "    def eval_equations_FOC(self): pass # evaluate FOCs\n",
    "    def terminal_actions(self): pass # action in last period = zero savings rate = consume everything\n",
    "\n",
    "    # Exploration shocks to explore a larger part of the state space\n",
    "    draw_exploration_shocks = EconDLSolvers.draw_exploration_shocks # default is normal(0,epsilon_sigma)\n",
    "    exploration = EconDLSolvers.exploration # default is action + eps (clipping is also imposed)\n",
    "\n",
    "    terminal_reward_pd = EconDLSolvers.terminal_reward_pd # default is just 0\n",
    "    discount_factor = EconDLSolvers.discount_factor # default is just par.beta"
   ]
  },
  {
   "cell_type": "markdown",
   "metadata": {},
   "source": [
    "### 3.1. Setup and allocate"
   ]
  },
  {
   "cell_type": "code",
   "execution_count": 153,
   "metadata": {},
   "outputs": [],
   "source": [
    "def setup(model):\n",
    "    \"\"\" choose parameters \"\"\"\n",
    "\n",
    "    # unpack\n",
    "    par = model.par\n",
    "    sim = model.sim\n",
    "\n",
    "    par.seed = 1 # seed for random number generator\n",
    "\n",
    "    # model parameters\n",
    "    par.T = 5 # number of periods\n",
    "    par.beta = 1.0/1.04 # discount factor\n",
    "    par.r = 0.02 # return rate\n",
    "\n",
    "    # income process\n",
    "    par.sigma_psi = 0.3 #\n",
    "    par.sigma_xi = 0.1 \n",
    "    par.rho_p = 0.95\n",
    "\n",
    "    # initial states\n",
    "    par.mu_m0 = 1.0 # mean of initial cash-on-hand\n",
    "    par.sigma_m0 = 0.1 # std of initial cash-on-hand\n",
    "\n",
    "    par.mu_p0 = 1.0 # mean of initial persistent productivity\n",
    "    par.sigma_p0 = 0.1 # std of initial persistent productivity\n",
    "\n",
    "    # miscellaneous\n",
    "    par.Nstates = 2 # number of states\n",
    "    par.Nstates_pd = 2 # number of states, post decision\n",
    "    par.Nactions = 1 # number of actions\n",
    "    par.Noutcomes = 1 # will be consumption in our case\n",
    "    par.Nshocks = 2 # psi is the only shock\n",
    "\n",
    "    par.Npsi = 4\n",
    "    par.Nxi = 4\n",
    "    sim.N = 100_000 # number of agents\n",
    "\n",
    "Model.setup = setup"
   ]
  },
  {
   "cell_type": "code",
   "execution_count": 154,
   "metadata": {},
   "outputs": [],
   "source": [
    "def allocate(model):\n",
    "    \"\"\" allocate arrays  \"\"\"\n",
    "\n",
    "    # unpack\n",
    "    par = model.par\n",
    "    sim = model.sim\n",
    "    train = model.train\n",
    "    dtype = train.dtype\n",
    "    device = train.device        \n",
    "\n",
    "    # simulation \n",
    "    sim.states = torch.zeros((par.T,sim.N,par.Nstates),dtype=dtype,device=device) # state-vector\n",
    "    sim.states_pd = torch.zeros((par.T,sim.N,par.Nstates_pd),dtype=dtype,device=device) # post-decision state vector\n",
    "    sim.shocks = torch.zeros((par.T,sim.N,par.Nshocks),dtype=dtype,device=device) # shock-vector\n",
    "    sim.outcomes = torch.zeros((par.T,sim.N,par.Noutcomes),dtype=dtype,device=device) # outcomes array\n",
    "    sim.actions = torch.zeros((par.T,sim.N,par.Nactions),dtype=dtype,device=device)  # actions array\n",
    "    sim.reward = torch.zeros((par.T,sim.N),dtype=dtype,device=device) # array for utility rewards\n",
    "\n",
    "    sim.R = np.nan # initialize average discounted utility\n",
    "\n",
    "Model.allocate = allocate"
   ]
  },
  {
   "cell_type": "code",
   "execution_count": null,
   "metadata": {},
   "outputs": [],
   "source": [
    "def setup_train(model):\n",
    "    \"\"\" default parameters for training \"\"\"\n",
    "    \n",
    "    par = model.par\n",
    "    train = model.train\n",
    "    dtype = train.dtype\n",
    "    device = train.device\n",
    "\n",
    "    # neural network\n",
    "    train.Nneurons_policy = np.array([100,100]) # number of neurons in hidden layers\n",
    "    \n",
    "    # policy activation functions and clipping\n",
    "    train.policy_activation_final = ['sigmoid'] \n",
    "    train.min_actions = torch.tensor([0.0],dtype=dtype,device=device) # minimum action value\n",
    "    train.max_actions = torch.tensor([0.9999],dtype=dtype,device=device) # maximum action value\t\t\n",
    "\n",
    "    # extra settings for deepFOC\n",
    "    ## exploration noice\n",
    "    train.epsilon_sigma = np.array([0.05])\n",
    "    train.epsilon_sigma_decay = 1.0 # decay rate for epsilon_sigma\n",
    "    train.epsilon_sigma_min = np.array([0.0]) # minimum value for epsilon if decay is used\n",
    "    ## terminal actions known (function is specified later)\n",
    "    train.terminal_actions_known = True # not used in DeepSimulate\n",
    "\n",
    "Model.setup_train = setup_train"
   ]
  },
  {
   "cell_type": "code",
   "execution_count": 156,
   "metadata": {},
   "outputs": [],
   "source": [
    "def allocate_train(model):\n",
    "    \"\"\" allocate memory training \"\"\"\n",
    "\n",
    "    par = model.par\n",
    "    train = model.train\n",
    "    dtype = train.dtype\n",
    "    device = train.device\n",
    "\n",
    "    train.states = torch.zeros((par.T,train.N,par.Nstates),dtype=dtype,device=device)\n",
    "    train.states_pd = torch.zeros((par.T,train.N,par.Nstates_pd),dtype=dtype,device=device)\n",
    "    train.shocks = torch.zeros((par.T,train.N,par.Nshocks),dtype=dtype,device=device)\n",
    "    train.outcomes = torch.zeros((par.T,train.N,par.Noutcomes),dtype=dtype,device=device)\n",
    "    train.actions = torch.zeros((par.T,train.N,par.Nactions),dtype=dtype,device=device)\n",
    "    train.reward = torch.zeros((par.T,train.N),dtype=dtype,device=device)\n",
    "\n",
    "Model.allocate_train = allocate_train"
   ]
  },
  {
   "cell_type": "markdown",
   "metadata": {},
   "source": [
    "### 3.2. Drawing shocks and initial states"
   ]
  },
  {
   "cell_type": "code",
   "execution_count": 157,
   "metadata": {},
   "outputs": [],
   "source": [
    "def draw_initial_states(model,N,training=False):\n",
    "    \"\"\" draw initial state (m,p,t) \"\"\"\n",
    " \n",
    "    par = model.par\n",
    "    \n",
    "    # draw initial cash-on-hand\n",
    "    m0 = par.mu_m0*torch.exp(torch.normal(-0.5*par.sigma_m0**2,par.sigma_m0,size=(N,)))\n",
    "    \n",
    "    # draw permanent income\n",
    "    p0 = par.mu_p0*torch.exp(torch.normal(-0.5*par.sigma_p0**2,par.sigma_p0,size=(N,)))\n",
    " \n",
    "    return torch.stack((m0,p0),dim=1) # (N,Nstates)\n",
    "\n",
    "def draw_shocks(model,N):\n",
    "    \"\"\" draw shocks \"\"\"\n",
    "\n",
    "    par = model.par\n",
    "\n",
    "    xi = torch.normal(0.0,1.0,size=(par.T,N))\n",
    "    xi = torch.exp(par.sigma_xi*xi-0.5*par.sigma_xi**2)\n",
    "\n",
    "    psi = torch.normal(0.0,1.0,size=(par.T,N))\n",
    "    psi = torch.exp(par.sigma_psi*psi-0.5*par.sigma_psi**2)\n",
    "    return torch.stack((xi,psi),dim=-1) # (T,N,Nshocks)\n",
    "\n",
    "Model.draw_initial_states = draw_initial_states\n",
    "Model.draw_shocks = draw_shocks"
   ]
  },
  {
   "cell_type": "code",
   "execution_count": 159,
   "metadata": {},
   "outputs": [],
   "source": [
    "def outcomes(model,states,actions,t0=0,t=None):\n",
    "\t\"\"\" outcomes \"\"\"\n",
    "\n",
    "\tm = states[...,0]\n",
    "\ta = actions[...,0]\n",
    "\tc = m*(1-a) # equation 2 \n",
    "\n",
    "\treturn torch.stack((c,),dim=-1) # (T,N,Noutcomes)\n",
    "\n",
    "Model.outcomes = outcomes"
   ]
  },
  {
   "cell_type": "code",
   "execution_count": 160,
   "metadata": {},
   "outputs": [],
   "source": [
    "def state_trans_pd(model,states,actions,outcomes,t0=0,t=None):\n",
    "\t\"\"\" transition to post-decision state \"\"\"\n",
    "\t\n",
    "\tm = states[...,0] # cash-on-hand\n",
    "\tp = states[...,1] # persistent income\n",
    "\tc = outcomes[...,0] # consumption\n",
    "\tb_pd = m-c # next_period wealth # equation 3\n",
    "\n",
    "\tstates_pd = torch.stack((b_pd,p),dim=-1)\n",
    "\treturn states_pd\n",
    "\n",
    "Model.state_trans_pd = state_trans_pd"
   ]
  },
  {
   "cell_type": "code",
   "execution_count": 161,
   "metadata": {},
   "outputs": [],
   "source": [
    "def state_trans(model,states_pd,shocks,t=None):\n",
    "\t\"\"\" state transition with quadrature \"\"\"\n",
    "\tpar = model.par\n",
    "\ttrain = model.train\n",
    "\n",
    "\t# unpack\n",
    "\tb_pd = states_pd[...,0] # post-decision wealth\n",
    "\tp_pd = states_pd[...,1] # permanent income\n",
    "\t\n",
    "\txi = shocks[:,0] # shock on persistent income\n",
    "\tpsi = shocks[:,1] # transitory shock\n",
    "\n",
    "\t# When using DeepFOC or DeepVPD, need to expand to quadrature nodes\n",
    "\tif t is None:\n",
    "\t\tb_pd = EconDLSolvers.expand_to_quad(b_pd,train.Nquad) # (T,N) ==> (T,N,Nquad) Nquad = number of quadrature nodes\n",
    "\t\tp_pd = EconDLSolvers.expand_to_quad(p_pd,train.Nquad) # (T,N) ==> (T,N,Nquad) Nquad = number of quadrature nodes\n",
    "\t\t\n",
    "\t\txi = EconDLSolvers.expand_to_states(xi,states_pd) # (Nquad,) ==> (T,N,Nquad)\n",
    "\t\tpsi = EconDLSolvers.expand_to_states(psi,states_pd) # (Nquad,) ==> (T,N,Nquad)\n",
    "\n",
    "\t# transition to next-period \n",
    "\tp_plus = p_pd**par.rho_p*xi # equation 4\n",
    "\tm_plus = (1+par.r)*b_pd + p_plus * psi # equation 5\n",
    "\t\n",
    "\tstates_plus = torch.stack((m_plus,p_plus),dim=-1) \n",
    "\treturn states_plus\n",
    "\n",
    "Model.state_trans = state_trans"
   ]
  },
  {
   "cell_type": "code",
   "execution_count": 162,
   "metadata": {},
   "outputs": [],
   "source": [
    "def reward(model,states,actions,outcomes,t0=0,t=None):\n",
    "\t\"\"\" reward \"\"\"\n",
    "\n",
    "\tc = outcomes[...,0]\n",
    "\tu = torch.log(c)\n",
    "\n",
    "\treturn u \n",
    "\n",
    "Model.reward = reward"
   ]
  },
  {
   "cell_type": "markdown",
   "metadata": {},
   "source": [
    "### 3.3 Functions specific to DeepFOC (and DeepVPD)"
   ]
  },
  {
   "cell_type": "code",
   "execution_count": null,
   "metadata": {},
   "outputs": [],
   "source": [
    "def quad(model): # not used in DeepSimulate\n",
    "    \"\"\" quadrature nodes and weights \"\"\"\n",
    "\n",
    "    # a. unpack\n",
    "    par = model.par\n",
    "    train = model.train\n",
    "\n",
    "    par.psi, par.psi_w = log_normal_gauss_hermite(par.sigma_psi,par.Npsi)\n",
    "    par.xi, par.xi_w = log_normal_gauss_hermite(par.sigma_xi,par.Nxi)\n",
    "    par.psi = torch.tensor(par.psi, dtype=train.dtype,device=train.device)\n",
    "    par.psi_w = torch.tensor(par.psi_w, dtype=train.dtype,device=train.device)\n",
    "    par.xi = torch.tensor(par.xi, dtype=train.dtype,device=train.device)\n",
    "    par.xi_w = torch.tensor(par.xi_w, dtype=train.dtype,device=train.device)\n",
    "\n",
    "    # b. quadrature nodes and weights\n",
    "    xi,psi = torch.meshgrid(par.xi,par.psi, indexing='ij')\n",
    "    xi_w,psi_w = torch.meshgrid(par.xi_w,par.psi_w, indexing='ij')\n",
    "        \n",
    "    quad = torch.stack((xi.flatten(),psi.flatten()),dim=-1)\n",
    "    quad_w = xi_w.flatten()*psi_w.flatten() \n",
    "\n",
    "    return quad,quad_w\n",
    "\n",
    "    \n",
    "Model.quad = quad"
   ]
  },
  {
   "cell_type": "code",
   "execution_count": null,
   "metadata": {},
   "outputs": [],
   "source": [
    "def terminal_actions(model,states):\n",
    "    \"\"\" terminal actions \"\"\"\n",
    "\n",
    "    train = model.train\n",
    "    dtype = train.dtype\n",
    "    device = train.device\n",
    "\n",
    "    # impose zero savings rate at the last period\n",
    "    actions = torch.zeros((*states.shape[:-1],1),dtype=dtype,device=device)\n",
    "\n",
    "    return actions \n",
    "\t\n",
    "def eval_equations_FOC(model,states,states_plus,actions,actions_plus,outcomes,outcomes_plus):\n",
    "    \"\"\" evaluate equations for DeepFOC \"\"\"\n",
    "\n",
    "    par = model.par\n",
    "    sq_equations = eval_burmeister(model,states,states_plus,actions,actions_plus)\n",
    "\n",
    "    return sq_equations\n",
    "\n",
    "def eval_burmeister(model,states,states_plus,actions,actions_plus):\n",
    "    \"\"\" evaluate equations for DeepFOC using Fischer Burmeister function \"\"\"\n",
    "\n",
    "    par = model.par\n",
    "    train = model.train\n",
    "\n",
    "    # a. compute consumption at time t\n",
    "    s_t = actions[...,0]\n",
    "    m_t = states[...,0]\n",
    "    c_t = m_t * (1-s_t) # equation 2\n",
    "\n",
    "    # b. compute consumption at time t+1\n",
    "    s_plus = actions_plus[...,0]\n",
    "    m_plus = states_plus[...,0]\n",
    "    c_plus = m_plus * (1-s_plus) # equation 2\n",
    "\n",
    "    # c. compute marginal utility at time t+1\n",
    "    marg_util_tplus = 1/c_plus \n",
    "\n",
    "    # d. compute expected marginal utility at time t+1\n",
    "    exp_marg_util_t1 = torch.sum(train.quad_w[None,None,:]*marg_util_tplus,dim=-1)\n",
    "\n",
    "    # e. euler equation\n",
    "    FOC = 1/(par.beta*(1+par.r)*exp_marg_util_t1)/c_t-1\n",
    "\n",
    "    # f. borrowing constraint\n",
    "    constraint = s_t # >= 0\n",
    "\n",
    "    # g. combine with fischer burmeister\n",
    "    eq = fischer_burmeister(FOC,constraint)**2\n",
    "\n",
    "    return torch.stack((eq,),dim=-1) # shape = (T,N) -> (T,N,1)\n",
    "\n",
    "def fischer_burmeister(a,b):\n",
    "    \"\"\" Fischer-Burmeister function \"\"\"\n",
    "        \n",
    "    return torch.sqrt(a**2 + b**2) - a - b\n",
    "\n",
    "Model.train.eq_w = torch.tensor([1.0,1.0],dtype=torch.float32,device='cpu') # weight for the two equations\n",
    "Model.eval_equations_FOC = eval_equations_FOC\n",
    "Model.terminal_actions = terminal_actions"
   ]
  },
  {
   "cell_type": "markdown",
   "metadata": {},
   "source": [
    "## 4. Solve the model"
   ]
  },
  {
   "cell_type": "code",
   "execution_count": null,
   "metadata": {},
   "outputs": [],
   "source": [
    "device = 'cpu' # EconDLSolvers.choose_gpu()\n",
    "model_DeepFOC = Model(algoname='DeepFOC',device=device, train={'K_time': 0.5})\n",
    "model_DeepFOC.train.eq_w = torch.tensor([1.0,1.0],dtype=torch.float32,device='cpu') \n",
    "model_DeepFOC.solve(do_print=True)"
   ]
  },
  {
   "cell_type": "markdown",
   "metadata": {},
   "source": [
    "Solve the same model with the endogenous grid method for comparison."
   ]
  },
  {
   "cell_type": "code",
   "execution_count": 166,
   "metadata": {},
   "outputs": [
    {
     "name": "stdout",
     "output_type": "stream",
     "text": [
      "-0.16749737587500668\n"
     ]
    }
   ],
   "source": [
    "dp = BufferStockModelEGMClass(name='DP')\n",
    "dp.solve_EGM()\n",
    "dp.simulate_R()\n",
    "print(dp.sim.R)"
   ]
  },
  {
   "cell_type": "code",
   "execution_count": 167,
   "metadata": {},
   "outputs": [
    {
     "data": {
      "image/png": "[encoded data removed]",
      "text/plain": [
       "<Figure size 1200x600 with 4 Axes>"
      ]
     },
     "metadata": {},
     "output_type": "display_data"
    }
   ],
   "source": [
    "t_range = range(model_DeepFOC.par.T)\n",
    "coh_dl = model_DeepFOC.sim.states[...,0].mean(dim=1).cpu().numpy()\n",
    "consumption_dl = model_DeepFOC.sim.outcomes[...,0].mean(dim=1).cpu().numpy()\n",
    "\n",
    "coh_dp = dp.sim.states[...,0].mean(axis=1)\n",
    "consumption_dp = dp.sim.outcomes[...,0].mean(axis=1)\n",
    "\n",
    "fig, ax = plt.subplots(2,2,figsize=(12,6))\n",
    "\n",
    "ax[0,0].plot(t_range,coh_dl,label='DL')\n",
    "ax[0,0].plot(t_range,coh_dp,label='DP', linestyle = ':')\n",
    "ax[0,0].set_xlabel('t')\n",
    "ax[0,0].set_xticks(t_range)\n",
    "ax[0,0].legend()\n",
    "ax[0,0].set_title('Wealth')\n",
    "\n",
    "ax[0,1].plot(t_range,consumption_dl,label='DL')\n",
    "ax[0,1].plot(t_range,consumption_dp,label='DP', linestyle = ':')\n",
    "ax[0,1].set_xlabel('t')\n",
    "ax[0,1].set_xticks(t_range)\n",
    "ax[0,1].set_title('Consumption')\n",
    "\n",
    "ax[1,0].plot(t_range,model_DeepFOC.sim.states[:,:,1].mean(dim=1).cpu().numpy(),label='DL')\n",
    "ax[1,0].plot(t_range,dp.sim.states[:,:,1].mean(axis=1),label='DL', linestyle = ':')\n",
    "ax[1,0].set_xlabel('t')\n",
    "ax[1,0].set_xticks(t_range)\n",
    "ax[1,0].set_title('Persistent income')\n",
    "\n",
    "ax[1,1].plot(t_range,model_DeepFOC.sim.actions[:,:,0].mean(dim=1).cpu().numpy(),label='DL')\n",
    "ax[1,1].plot(t_range,dp.sim.actions[:,:,0].mean(axis=1),label='DL', linestyle = ':')\n",
    "ax[1,1].set_xlabel('t')\n",
    "ax[1,1].set_xticks(t_range)\n",
    "ax[1,1].set_title('Saving rate')\n",
    "\n",
    "\n",
    "fig.tight_layout()"
   ]
  },
  {
   "cell_type": "code",
   "execution_count": null,
   "metadata": {},
   "outputs": [],
   "source": []
  }
 ],
 "metadata": {
  "kernelspec": {
   "display_name": "base",
   "language": "python",
   "name": "python3"
  },
  "language_info": {
   "codemirror_mode": {
    "name": "ipython",
    "version": 3
   },
   "file_extension": ".py",
   "mimetype": "text/x-python",
   "name": "python",
   "nbconvert_exporter": "python",
   "pygments_lexer": "ipython3",
   "version": "3.12.7"
  }
 },
 "nbformat": 4,
 "nbformat_minor": 2
}
