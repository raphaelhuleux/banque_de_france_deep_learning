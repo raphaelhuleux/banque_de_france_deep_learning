{
 "cells": [
  {
   "cell_type": "markdown",
   "metadata": {},
   "source": [
    "# Solving the Buffer-Stock Model with Deep Learning"
   ]
  },
  {
   "cell_type": "markdown",
   "metadata": {},
   "source": [
    "## 1. Imports"
   ]
  },
  {
   "cell_type": "code",
   "execution_count": 28,
   "metadata": {},
   "outputs": [],
   "source": [
    "import os\n",
    "os.environ['KMP_DUPLICATE_LIB_OK'] = 'TRUE' # without this Python may crash when plotting from matplotlib\n",
    "import numpy as np\n",
    "import torch \n",
    "import matplotlib.pyplot as plt\n",
    "import EconDLSolvers\n",
    "from consav.quadrature import log_normal_gauss_hermite\n",
    "from dynamic_programming.BufferStockModelEGM import BufferStockModelEGMClass"
   ]
  },
  {
   "cell_type": "markdown",
   "metadata": {},
   "source": [
    "## 2. Model"
   ]
  },
  {
   "cell_type": "markdown",
   "metadata": {},
   "source": [
    "We are going to solve a **simple buffer-stock model**.\n",
    "\n",
    "1. Two states: cash-on-hand $m_t$ and persistent income $p_t$\n",
    "2. Two shocks $\\psi_t \\sim \\log \\mathcal{N}\\left(-\\frac{1}{2}\\sigma_{\\psi}^2,\\sigma_{\\psi}^2\\right)$, and $\\xi_t \\sim \\log \\mathcal{N}\\left(-\\frac{1}{2}\\sigma_{\\xi}^2,\\sigma_{\\xi^2}\\right)$\n",
    "3. A single choice: consumption $c_t$, or equivalently the savings rate, $a_t\\in[0,1]$"
   ]
  },
  {
   "cell_type": "markdown",
   "metadata": {},
   "source": [
    "The utility function is\n",
    "\n",
    "$$\n",
    "u(c_t) = \\log (c_t)\n",
    "$$"
   ]
  },
  {
   "cell_type": "markdown",
   "metadata": {},
   "source": [
    "The bellman equation is\n",
    "\n",
    "$$\n",
    "\\begin{align}\n",
    "v_t(m_t,p_t) &= \\underset{s_t\\in[0,1]}{\\max} \\ u(c_t) + \\beta \\mathbb{E}_t[v_{t+1}(m_{t+1},p_{t+1})] \\\\\n",
    "&\\text{s.t}  \\nonumber \\\\\n",
    "c_t &= s_t m_t\\\\ \n",
    "\\overline{b}_t &= m_t - c_t \\\\ \n",
    "p_{t+1}&=p_t^{\\rho} \\xi_{t+1} \\\\\n",
    "m_{t+1} &= (1+r) \\overline{b}_t + p_{t+1}\\psi_{t+1} \n",
    "\\end{align}\n",
    "$$"
   ]
  },
  {
   "cell_type": "markdown",
   "metadata": {},
   "source": [
    "## 3. Defining the model class"
   ]
  },
  {
   "cell_type": "markdown",
   "metadata": {},
   "source": [
    "First define the model class based on the **DLSolverclass** from the package."
   ]
  },
  {
   "cell_type": "code",
   "execution_count": 29,
   "metadata": {},
   "outputs": [],
   "source": [
    "class Model(EconDLSolvers.DLSolverClass): # inherit from DLSolverClass\n",
    "\n",
    "    # setup and allocate\n",
    "    def setup(self): pass\n",
    "    def allocate(self): pass\n",
    "    def setup_train(self): pass\n",
    "    def allocate_train(self): pass\n",
    "\n",
    "    # draw\n",
    "    def draw_initial_states(self): pass\n",
    "    def draw_shocks(self): pass\n",
    "\n",
    "    # transition\n",
    "    def outcomes(self): pass # states, actions -> (intermediary) outcomes\n",
    "    def state_trans_pd(self): pass # states, actions, outcomes -> post-decision states\n",
    "    def state_trans(self): pass # post-decision states, shocks -> next-period states\n",
    "\n",
    "    # reward\n",
    "    def reward(self): pass # utility\n",
    "\n",
    "    # DeepFOC specific\n",
    "    def quad(self): pass # approximate expectation with quadrature \n",
    "    def eval_equations_FOC(self): pass # evaluate FOCs\n",
    "    def terminal_actions(self): pass # action in last period = zero savings rate = consume everything\n",
    "\n",
    "    # Exploration shocks to explore a larger part of the state space\n",
    "    draw_exploration_shocks = EconDLSolvers.draw_exploration_shocks # default is normal(0,epsilon_sigma)\n",
    "    exploration = EconDLSolvers.exploration # default is action + eps (clipping is also imposed)\n",
    "\n",
    "    terminal_reward_pd = EconDLSolvers.terminal_reward_pd # default is just 0\n",
    "    discount_factor = EconDLSolvers.discount_factor # default is just par.beta"
   ]
  },
  {
   "cell_type": "markdown",
   "metadata": {},
   "source": [
    "### 3.1. Setup and allocate"
   ]
  },
  {
   "cell_type": "code",
   "execution_count": 30,
   "metadata": {},
   "outputs": [],
   "source": [
    "def setup(model):\n",
    "    \"\"\" choose parameters \"\"\"\n",
    "\n",
    "    # unpack\n",
    "    par = model.par\n",
    "    sim = model.sim\n",
    "\n",
    "    par.seed = 1 # seed for random number generator\n",
    "\n",
    "    # model parameters\n",
    "    par.T = 5 # number of periods\n",
    "    par.beta = 1.0/1.04 # discount factor\n",
    "    par.r = 0.02 # return rate\n",
    "\n",
    "    # income process\n",
    "    par.sigma_psi = 0.3 #\n",
    "    par.sigma_xi = 0.1 \n",
    "    par.rho_p = 0.95\n",
    "\n",
    "    # initial states\n",
    "    par.mu_m0 = 1.0 # mean of initial cash-on-hand\n",
    "    par.sigma_m0 = 0.1 # std of initial cash-on-hand\n",
    "\n",
    "    par.mu_p0 = 1.0 # mean of initial persistent productivity\n",
    "    par.sigma_p0 = 0.1 # std of initial persistent productivity\n",
    "\n",
    "    # miscellaneous\n",
    "    par.Nstates = 2 # number of states\n",
    "    par.Nstates_pd = 2 # number of states, post decision\n",
    "    par.Nactions = 1 # number of actions\n",
    "    par.Noutcomes = 1 # will be consumption in our case\n",
    "    par.Nshocks = 2 # psi is the only shock\n",
    "\n",
    "    par.Npsi = 4\n",
    "    par.Nxi = 4\n",
    "    sim.N = 100_000 # number of agents\n",
    "\n",
    "Model.setup = setup"
   ]
  },
  {
   "cell_type": "code",
   "execution_count": 31,
   "metadata": {},
   "outputs": [],
   "source": [
    "def allocate(model):\n",
    "    \"\"\" allocate arrays  \"\"\"\n",
    "\n",
    "    # unpack\n",
    "    par = model.par\n",
    "    sim = model.sim\n",
    "    train = model.train\n",
    "    dtype = train.dtype\n",
    "    device = train.device        \n",
    "\n",
    "    # simulation \n",
    "    sim.states = torch.zeros((par.T,sim.N,par.Nstates),dtype=dtype,device=device) # state-vector\n",
    "    sim.states_pd = torch.zeros((par.T,sim.N,par.Nstates_pd),dtype=dtype,device=device) # post-decision state vector\n",
    "    sim.shocks = torch.zeros((par.T,sim.N,par.Nshocks),dtype=dtype,device=device) # shock-vector\n",
    "    sim.outcomes = torch.zeros((par.T,sim.N,par.Noutcomes),dtype=dtype,device=device) # outcomes array\n",
    "    sim.actions = torch.zeros((par.T,sim.N,par.Nactions),dtype=dtype,device=device)  # actions array\n",
    "    sim.reward = torch.zeros((par.T,sim.N),dtype=dtype,device=device) # array for utility rewards\n",
    "\n",
    "    sim.R = np.nan # initialize average discounted utility\n",
    "\n",
    "Model.allocate = allocate"
   ]
  },
  {
   "cell_type": "code",
   "execution_count": 32,
   "metadata": {},
   "outputs": [],
   "source": [
    "def setup_train(model):\n",
    "    \"\"\" default parameters for training \"\"\"\n",
    "    \n",
    "    par = model.par\n",
    "    train = model.train\n",
    "    dtype = train.dtype\n",
    "    device = train.device\n",
    "\n",
    "    # neural network\n",
    "    train.Nneurons_policy = np.array([50,50]) # number of neurons in hidden layers\n",
    "    \n",
    "    # policy activation functions and clipping\n",
    "    train.policy_activation_final = ['sigmoid'] \n",
    "    train.min_actions = torch.tensor([0.0],dtype=dtype,device=device) # minimum action value\n",
    "    train.max_actions = torch.tensor([0.9999],dtype=dtype,device=device) # maximum action value\t\t\n",
    "\n",
    "    # extra settings for deepFOC\n",
    "    ## exploration noice\n",
    "    train.epsilon_sigma = np.array([0.05])\n",
    "    train.epsilon_sigma_decay = 1.0 # decay rate for epsilon_sigma\n",
    "    train.epsilon_sigma_min = np.array([0.0]) # minimum value for epsilon if decay is used\n",
    "    \n",
    "    ## terminal actions known (function is specified later)\n",
    "    train.terminal_actions_known = True # not used in DeepSimulate\n",
    "\n",
    "Model.setup_train = setup_train"
   ]
  },
  {
   "cell_type": "code",
   "execution_count": 33,
   "metadata": {},
   "outputs": [],
   "source": [
    "def allocate_train(model):\n",
    "    \"\"\" allocate memory training \"\"\"\n",
    "\n",
    "    par = model.par\n",
    "    train = model.train\n",
    "    dtype = train.dtype\n",
    "    device = train.device\n",
    "\n",
    "    train.states = torch.zeros((par.T,train.N,par.Nstates),dtype=dtype,device=device)\n",
    "    train.states_pd = torch.zeros((par.T,train.N,par.Nstates_pd),dtype=dtype,device=device)\n",
    "    train.shocks = torch.zeros((par.T,train.N,par.Nshocks),dtype=dtype,device=device)\n",
    "    train.outcomes = torch.zeros((par.T,train.N,par.Noutcomes),dtype=dtype,device=device)\n",
    "    train.actions = torch.zeros((par.T,train.N,par.Nactions),dtype=dtype,device=device)\n",
    "    train.reward = torch.zeros((par.T,train.N),dtype=dtype,device=device)\n",
    "\n",
    "Model.allocate_train = allocate_train"
   ]
  },
  {
   "cell_type": "markdown",
   "metadata": {},
   "source": [
    "### 3.2. Drawing shocks and initial states"
   ]
  },
  {
   "cell_type": "code",
   "execution_count": 34,
   "metadata": {},
   "outputs": [],
   "source": [
    "def draw_initial_states(model,N,training=False):\n",
    "    \"\"\" draw initial state (m,p,t) \"\"\"\n",
    " \n",
    "    par = model.par\n",
    "    \n",
    "    # draw initial cash-on-hand\n",
    "    m0 = par.mu_m0*torch.exp(torch.normal(-0.5*par.sigma_m0**2,par.sigma_m0,size=(N,)))\n",
    "    \n",
    "    # draw permanent income\n",
    "    p0 = par.mu_p0*torch.exp(torch.normal(-0.5*par.sigma_p0**2,par.sigma_p0,size=(N,)))\n",
    " \n",
    "    return torch.stack((m0,p0),dim=1) # (N,Nstates)\n",
    "\n",
    "def draw_shocks(model,N):\n",
    "    \"\"\" draw shocks \"\"\"\n",
    "\n",
    "    par = model.par\n",
    "\n",
    "    xi = torch.normal(0.0,1.0,size=(par.T,N))\n",
    "    xi = torch.exp(par.sigma_xi*xi-0.5*par.sigma_xi**2) # adjustment for log-normal\n",
    "\n",
    "    psi = torch.normal(0.0,1.0,size=(par.T,N))\n",
    "    psi = torch.exp(par.sigma_psi*psi-0.5*par.sigma_psi**2) # adjustment for log-normal\n",
    "    return torch.stack((xi,psi),dim=-1) # (T,N,Nshocks)\n",
    "\n",
    "Model.draw_initial_states = draw_initial_states\n",
    "Model.draw_shocks = draw_shocks"
   ]
  },
  {
   "cell_type": "code",
   "execution_count": 35,
   "metadata": {},
   "outputs": [],
   "source": [
    "def outcomes(model,states,actions,t0=0,t=None):\n",
    "\t\"\"\" outcomes \"\"\"\n",
    "\n",
    "\tm = states[...,0]\n",
    "\ts = actions[...,0]\n",
    "\tc = m*(1-s) # equation 2 \n",
    "\n",
    "\treturn torch.stack((c,),dim=-1) # (T,N,Noutcomes)\n",
    "\n",
    "Model.outcomes = outcomes"
   ]
  },
  {
   "cell_type": "code",
   "execution_count": 36,
   "metadata": {},
   "outputs": [],
   "source": [
    "def state_trans_pd(model,states,actions,outcomes,t0=0,t=None):\n",
    "\t\"\"\" transition to post-decision state \"\"\"\n",
    "\t\n",
    "\tm = states[...,0]   # cash-on-hand\n",
    "\tp = states[...,1]   # persistent income\n",
    "\tc = outcomes[...,0] # consumption\n",
    "\tb_pd = m-c          # next_period wealth # equation 3\n",
    "\n",
    "\tstates_pd = torch.stack((b_pd,p),dim=-1)\n",
    "\treturn states_pd\n",
    "\n",
    "Model.state_trans_pd = state_trans_pd"
   ]
  },
  {
   "cell_type": "code",
   "execution_count": 37,
   "metadata": {},
   "outputs": [],
   "source": [
    "def state_trans(model,states_pd,shocks,t=None):\n",
    "\t\"\"\" state transition with quadrature \"\"\"\n",
    "\tpar = model.par\n",
    "\ttrain = model.train\n",
    "\n",
    "\t# unpack\n",
    "\tb_pd = states_pd[...,0] # post-decision wealth\n",
    "\tp_pd = states_pd[...,1] # permanent income\n",
    "\t\n",
    "\txi = shocks[:,0] # shock on persistent income\n",
    "\tpsi = shocks[:,1] # transitory shock\n",
    "\n",
    "\t# When using DeepFOC or DeepVPD, need to expand to quadrature nodes\n",
    "\tif t is None:\n",
    "\t\tb_pd = EconDLSolvers.expand_to_quad(b_pd,train.Nquad) # (T,N) ==> (T,N,Nquad) Nquad = number of quadrature nodes\n",
    "\t\tp_pd = EconDLSolvers.expand_to_quad(p_pd,train.Nquad) # (T,N) ==> (T,N,Nquad) Nquad = number of quadrature nodes\n",
    "\t\t\n",
    "\t\txi = EconDLSolvers.expand_to_states(xi,states_pd) # (Nquad,) ==> (T,N,Nquad)\n",
    "\t\tpsi = EconDLSolvers.expand_to_states(psi,states_pd) # (Nquad,) ==> (T,N,Nquad)\n",
    "\n",
    "\t# transition to next-period \n",
    "\tp_plus = p_pd**par.rho_p*xi # equation 4\n",
    "\tm_plus = (1+par.r)*b_pd + p_plus * psi # equation 5\n",
    "\t\n",
    "\tstates_plus = torch.stack((m_plus,p_plus),dim=-1) \n",
    "\treturn states_plus\n",
    "\n",
    "Model.state_trans = state_trans"
   ]
  },
  {
   "cell_type": "code",
   "execution_count": 38,
   "metadata": {},
   "outputs": [],
   "source": [
    "def reward(model,states,actions,outcomes,t0=0,t=None):\n",
    "\t\"\"\" reward \"\"\"\n",
    "\n",
    "\tc = outcomes[...,0]\n",
    "\tu = torch.log(c)\n",
    "\n",
    "\treturn u \n",
    "\n",
    "Model.reward = reward"
   ]
  },
  {
   "cell_type": "markdown",
   "metadata": {},
   "source": [
    "### 3.3 Functions specific to DeepFOC (and DeepVPD)"
   ]
  },
  {
   "cell_type": "code",
   "execution_count": 39,
   "metadata": {},
   "outputs": [],
   "source": [
    "def quad(model): # not used in DeepSimulate\n",
    "    \"\"\" quadrature nodes and weights \"\"\"\n",
    "\n",
    "    # a. unpack\n",
    "    par = model.par\n",
    "    train = model.train\n",
    "\n",
    "    par.psi, par.psi_w = log_normal_gauss_hermite(par.sigma_psi,par.Npsi)\n",
    "    par.xi, par.xi_w = log_normal_gauss_hermite(par.sigma_xi,par.Nxi)\n",
    "    par.psi = torch.tensor(par.psi, dtype=train.dtype,device=train.device)\n",
    "    par.psi_w = torch.tensor(par.psi_w, dtype=train.dtype,device=train.device)\n",
    "    par.xi = torch.tensor(par.xi, dtype=train.dtype,device=train.device)\n",
    "    par.xi_w = torch.tensor(par.xi_w, dtype=train.dtype,device=train.device)\n",
    "\n",
    "    # b. quadrature nodes and weights\n",
    "    xi,psi = torch.meshgrid(par.xi,par.psi, indexing='ij')\n",
    "    xi_w,psi_w = torch.meshgrid(par.xi_w,par.psi_w, indexing='ij')\n",
    "        \n",
    "    quad = torch.stack((xi.flatten(),psi.flatten()),dim=-1)\n",
    "    quad_w = xi_w.flatten()*psi_w.flatten() \n",
    "\n",
    "    return quad,quad_w\n",
    "\n",
    "    \n",
    "Model.quad = quad"
   ]
  },
  {
   "cell_type": "code",
   "execution_count": 40,
   "metadata": {},
   "outputs": [],
   "source": [
    "def terminal_actions(model,states):\n",
    "    \"\"\" terminal actions \"\"\"\n",
    "\n",
    "    train = model.train\n",
    "    dtype = train.dtype\n",
    "    device = train.device\n",
    "\n",
    "    # impose zero savings rate at the last period\n",
    "    actions = torch.zeros((*states.shape[:-1],1),dtype=dtype,device=device)\n",
    "\n",
    "    return actions \n",
    "\t\n",
    "def eval_equations_FOC(model,states,states_plus,actions,actions_plus,outcomes,outcomes_plus):\n",
    "    \"\"\" evaluate equations for DeepFOC \"\"\"\n",
    "\n",
    "    par = model.par\n",
    "    sq_equations = eval_burmeister(model,states,states_plus,actions,actions_plus)\n",
    "\n",
    "    return sq_equations\n",
    "\n",
    "def eval_burmeister(model,states,states_plus,actions,actions_plus):\n",
    "    \"\"\" evaluate equations for DeepFOC using Fischer Burmeister function \"\"\"\n",
    "\n",
    "    par = model.par\n",
    "    train = model.train\n",
    "\n",
    "    # a. compute consumption at time t\n",
    "    s_t = actions[...,0]\n",
    "    m_t = states[...,0]\n",
    "    c_t = m_t * (1-s_t) # equation 2\n",
    "\n",
    "    # b. compute consumption at time t+1\n",
    "    s_plus = actions_plus[...,0]\n",
    "    m_plus = states_plus[...,0]\n",
    "    c_plus = m_plus * (1-s_plus) # equation 2\n",
    "\n",
    "    # c. compute marginal utility at time t+1\n",
    "    marg_util_tplus = 1/c_plus \n",
    "\n",
    "    # d. compute expected marginal utility at time t+1\n",
    "    exp_marg_util_t1 = torch.sum(train.quad_w[None,None,:]*marg_util_tplus,dim=-1)\n",
    "\n",
    "    # e. euler equation\n",
    "    FOC = 1/(par.beta*(1+par.r)*exp_marg_util_t1)/c_t-1\n",
    "\n",
    "    # f. borrowing constraint\n",
    "    constraint = s_t # >= 0\n",
    "\n",
    "    # g. combine with fischer burmeister\n",
    "    eq = fischer_burmeister(FOC,constraint)**2\n",
    "\n",
    "    return torch.stack((eq,),dim=-1) # shape = (T,N) -> (T,N,1)\n",
    "\n",
    "def fischer_burmeister(a,b):\n",
    "    \"\"\" Fischer-Burmeister function \"\"\"\n",
    "        \n",
    "    return torch.sqrt(a**2 + b**2) - a - b\n",
    "\n",
    "\n",
    "Model.eval_equations_FOC = eval_equations_FOC\n",
    "Model.terminal_actions = terminal_actions"
   ]
  },
  {
   "cell_type": "markdown",
   "metadata": {},
   "source": [
    "## 4. Solve the model"
   ]
  },
  {
   "cell_type": "code",
   "execution_count": 41,
   "metadata": {},
   "outputs": [
    {
     "name": "stdout",
     "output_type": "stream",
     "text": [
      "started solving: 2025-05-19 10:23:10\n",
      "k =     0 of inf: sim.R =  -0.42244032 [best:  -0.42244032] [0.1 secs] [value_epochs =   0] [policy_epochs =  15] [  0.00 mins]\n",
      "k =    10 of inf: sim.R =  -0.19084661 [best:  -0.19084661] [0.1 secs] [value_epochs =   0] [policy_epochs =  15] [  0.01 mins]\n",
      "k =    20 of inf: sim.R =  -0.17660278 [best:  -0.17660278] [0.1 secs] [value_epochs =   0] [policy_epochs =  15] [  0.02 mins]\n",
      "k =    30 of inf: sim.R =  -0.17312507 [best:  -0.17312507] [0.1 secs] [value_epochs =   0] [policy_epochs =  15] [  0.02 mins]\n",
      "k =    40 of inf: sim.R =  -0.17163019 [best:  -0.17163019] [0.1 secs] [value_epochs =   0] [policy_epochs =  15] [  0.03 mins]\n",
      "k =    50 of inf: sim.R =  -0.17045680 [best:  -0.17045680] [0.1 secs] [value_epochs =   0] [policy_epochs =  15] [  0.04 mins]\n",
      "k =    60 of inf: sim.R =  -0.16979741 [best:  -0.16979741] [0.1 secs] [value_epochs =   0] [policy_epochs =  15] [  0.04 mins]\n",
      "k =    70 of inf: sim.R =  -0.16944027 [best:  -0.16944027] [0.1 secs] [value_epochs =   0] [policy_epochs =  15] [  0.05 mins]\n",
      "k =    80 of inf: sim.R =  -0.16893619 [best:  -0.16893619] [0.1 secs] [value_epochs =   0] [policy_epochs =  15] [  0.06 mins]\n",
      "k =    90 of inf: sim.R =  -0.16864371 [best:  -0.16864371] [0.1 secs] [value_epochs =   0] [policy_epochs =  15] [  0.06 mins]\n",
      "k =   100 of inf: sim.R =  -0.16843703 [best:  -0.16843703] [0.1 secs] [value_epochs =   0] [policy_epochs =  15] [  0.07 mins]\n",
      "k =   110 of inf: sim.R =  -0.16833799 [best:  -0.16833799] [0.1 secs] [value_epochs =   0] [policy_epochs =  15] [  0.08 mins]\n",
      "k =   120 of inf: sim.R =  -0.16822132 [best:  -0.16822132] [0.1 secs] [value_epochs =   0] [policy_epochs =  15] [  0.09 mins]\n",
      "k =   130 of inf: sim.R =  -0.16815093 [best:  -0.16815093] [0.1 secs] [value_epochs =   0] [policy_epochs =  15] [  0.09 mins]\n",
      "k =   140 of inf: sim.R =  -0.16810478 [best:  -0.16810478] [0.1 secs] [value_epochs =   0] [policy_epochs =  15] [  0.10 mins]\n",
      "k =   150 of inf: sim.R =  -0.16793248 [best:  -0.16793248] [0.1 secs] [value_epochs =   0] [policy_epochs =  15] [  0.11 mins]\n",
      "k =   160 of inf: sim.R =  -0.16790733 [best:  -0.16790733] [0.1 secs] [value_epochs =   0] [policy_epochs =  15] [  0.11 mins]\n",
      "k =   170 of inf: sim.R =  -0.16787320 [best:  -0.16787320] [0.1 secs] [value_epochs =   0] [policy_epochs =  15] [  0.12 mins]\n",
      "k =   180 of inf: sim.R =  -0.16783749 [best:  -0.16783749] [0.1 secs] [value_epochs =   0] [policy_epochs =  15] [  0.13 mins]\n",
      "k =   190 of inf: sim.R =  -0.16782507 [best:  -0.16782507] [0.1 secs] [value_epochs =   0] [policy_epochs =  15] [  0.13 mins]\n",
      "k =   200 of inf: sim.R =  -0.16780192 [best:  -0.16780192] [0.1 secs] [value_epochs =   0] [policy_epochs =  15] [  0.14 mins]\n",
      "k =   210 of inf: sim.R =  -0.16777903 [best:  -0.16777903] [0.1 secs] [value_epochs =   0] [policy_epochs =  15] [  0.15 mins]\n",
      "k =   220 of inf: sim.R =  -0.16775145 [best:  -0.16775145] [0.1 secs] [value_epochs =   0] [policy_epochs =  15] [  0.16 mins]\n",
      "k =   230 of inf: sim.R =  -0.16773729 [best:  -0.16773729] [0.1 secs] [value_epochs =   0] [policy_epochs =  15] [  0.16 mins]\n",
      "k =   240 of inf: sim.R =  -0.16771945 [best:  -0.16771945] [0.1 secs] [value_epochs =   0] [policy_epochs =  15] [  0.17 mins]\n",
      "k =   250 of inf: sim.R =  -0.16770023 [best:  -0.16770023] [0.1 secs] [value_epochs =   0] [policy_epochs =  15] [  0.18 mins]\n",
      "k =   260 of inf: sim.R =  -0.16769484 [best:  -0.16769484] [0.1 secs] [value_epochs =   0] [policy_epochs =  15] [  0.18 mins]\n",
      "k =   270 of inf: sim.R =  -0.16768236 [best:  -0.16768236] [0.1 secs] [value_epochs =   0] [policy_epochs =  15] [  0.19 mins]\n",
      "k =   280 of inf: sim.R =  -0.16767783 [best:  -0.16767783] [0.1 secs] [value_epochs =   0] [policy_epochs =  15] [  0.20 mins]\n",
      "k =   290 of inf: sim.R =  -0.16766286 [best:  -0.16766286] [0.1 secs] [value_epochs =   0] [policy_epochs =  15] [  0.21 mins]\n",
      "k =   300 of inf: sim.R =  -0.16765894 [best:  -0.16765894] [0.0 secs] [value_epochs =   0] [policy_epochs =   6] [  0.21 mins]\n",
      "k =   310 of inf: sim.R =  -0.16765419 [best:  -0.16765419] [0.1 secs] [value_epochs =   0] [policy_epochs =  15] [  0.22 mins]\n",
      "k =   320 of inf: sim.R =  -0.16764928 [best:  -0.16764928] [0.1 secs] [value_epochs =   0] [policy_epochs =  15] [  0.23 mins]\n",
      "k =   330 of inf: sim.R =  -0.16764058 [best:  -0.16764058] [0.1 secs] [value_epochs =   0] [policy_epochs =  15] [  0.23 mins]\n",
      "k =   340 of inf: sim.R =  -0.16763596 [best:  -0.16763596] [0.1 secs] [value_epochs =   0] [policy_epochs =  15] [  0.24 mins]\n",
      "k =   350 of inf: sim.R =  -0.16762914 [best:  -0.16762914] [0.1 secs] [value_epochs =   0] [policy_epochs =  15] [  0.25 mins]\n",
      "k =   360 of inf: sim.R =  -0.16762403 [best:  -0.16762403] [0.1 secs] [value_epochs =   0] [policy_epochs =  15] [  0.25 mins]\n",
      "k =   370 of inf: sim.R =  -0.16761787 [best:  -0.16761787] [0.1 secs] [value_epochs =   0] [policy_epochs =  15] [  0.26 mins]\n",
      "k =   380 of inf: sim.R =  -0.16761133 [best:  -0.16761133] [0.1 secs] [value_epochs =   0] [policy_epochs =  15] [  0.27 mins]\n",
      "k =   390 of inf: sim.R =  -0.16760524 [best:  -0.16760524] [0.1 secs] [value_epochs =   0] [policy_epochs =  15] [  0.27 mins]\n",
      "k =   400 of inf: sim.R =  -0.16760236 [best:  -0.16760236] [0.1 secs] [value_epochs =   0] [policy_epochs =  15] [  0.28 mins]\n",
      "k =   410 of inf: sim.R =  -0.16760001 [best:  -0.16760001] [0.1 secs] [value_epochs =   0] [policy_epochs =  15] [  0.29 mins]\n",
      "k =   420 of inf: sim.R =  -0.16759539 [best:  -0.16759539] [0.1 secs] [value_epochs =   0] [policy_epochs =  15] [  0.29 mins]\n",
      "k =   430 of inf: sim.R =  -0.16759625 [best:  -0.16759539] [0.0 secs] [value_epochs =   0] [policy_epochs =   6] [  0.30 mins] no improvements in 0.0 mins\n",
      "k =   440 of inf: sim.R =  -0.16759010 [best:  -0.16759010] [0.1 secs] [value_epochs =   0] [policy_epochs =   8] [  0.31 mins]\n",
      "k =   450 of inf: sim.R =  -0.16758712 [best:  -0.16758712] [0.1 secs] [value_epochs =   0] [policy_epochs =  15] [  0.31 mins]\n",
      "k =   460 of inf: sim.R =  -0.16758367 [best:  -0.16758367] [0.1 secs] [value_epochs =   0] [policy_epochs =  15] [  0.32 mins]\n",
      "k =   470 of inf: sim.R =  -0.16758175 [best:  -0.16758175] [0.1 secs] [value_epochs =   0] [policy_epochs =  15] [  0.32 mins]\n",
      "k =   480 of inf: sim.R =  -0.16757901 [best:  -0.16757901] [0.1 secs] [value_epochs =   0] [policy_epochs =  15] [  0.33 mins]\n",
      "k =   490 of inf: sim.R =  -0.16758329 [best:  -0.16757901] [0.1 secs] [value_epochs =   0] [policy_epochs =  15] [  0.34 mins] no improvements in 0.0 mins\n",
      "k =   500 of inf: sim.R =  -0.16757785 [best:  -0.16757785] [0.1 secs] [value_epochs =   0] [policy_epochs =  15] [  0.34 mins]\n",
      "k =   510 of inf: sim.R =  -0.16757245 [best:  -0.16757245] [0.1 secs] [value_epochs =   0] [policy_epochs =  15] [  0.35 mins]\n",
      "k =   520 of inf: sim.R =  -0.16756761 [best:  -0.16756761] [0.1 secs] [value_epochs =   0] [policy_epochs =  15] [  0.36 mins]\n",
      "k =   530 of inf: sim.R =  -0.16756529 [best:  -0.16756529] [0.1 secs] [value_epochs =   0] [policy_epochs =  15] [  0.36 mins]\n",
      "k =   540 of inf: sim.R =  -0.16756538 [best:  -0.16756529] [0.1 secs] [value_epochs =   0] [policy_epochs =  15] [  0.37 mins] no improvements in 0.0 mins\n",
      "k =   550 of inf: sim.R =  -0.16756214 [best:  -0.16756214] [0.1 secs] [value_epochs =   0] [policy_epochs =  15] [  0.38 mins]\n",
      "k =   560 of inf: sim.R =  -0.16755918 [best:  -0.16755918] [0.1 secs] [value_epochs =   0] [policy_epochs =  15] [  0.38 mins]\n",
      "k =   570 of inf: sim.R =  -0.16755830 [best:  -0.16755830] [0.1 secs] [value_epochs =   0] [policy_epochs =  15] [  0.39 mins]\n",
      "k =   580 of inf: sim.R =  -0.16755287 [best:  -0.16755287] [0.1 secs] [value_epochs =   0] [policy_epochs =  15] [  0.40 mins]\n",
      "k =   590 of inf: sim.R =  -0.16755395 [best:  -0.16755287] [0.1 secs] [value_epochs =   0] [policy_epochs =  15] [  0.40 mins] no improvements in 0.0 mins\n",
      "k =   600 of inf: sim.R =  -0.16755363 [best:  -0.16755287] [0.1 secs] [value_epochs =   0] [policy_epochs =  15] [  0.41 mins] no improvements in 0.0 mins\n",
      "k =   610 of inf: sim.R =  -0.16754685 [best:  -0.16754685] [0.1 secs] [value_epochs =   0] [policy_epochs =  15] [  0.42 mins]\n",
      "k =   620 of inf: sim.R =  -0.16754860 [best:  -0.16754685] [0.1 secs] [value_epochs =   0] [policy_epochs =  13] [  0.43 mins] no improvements in 0.0 mins\n",
      "k =   630 of inf: sim.R =  -0.16754769 [best:  -0.16754685] [0.1 secs] [value_epochs =   0] [policy_epochs =  15] [  0.43 mins] no improvements in 0.0 mins\n",
      "k =   640 of inf: sim.R =  -0.16754305 [best:  -0.16754305] [0.1 secs] [value_epochs =   0] [policy_epochs =  15] [  0.44 mins]\n",
      "k =   650 of inf: sim.R =  -0.16754325 [best:  -0.16754305] [0.1 secs] [value_epochs =   0] [policy_epochs =  15] [  0.45 mins] no improvements in 0.0 mins\n",
      "k =   660 of inf: sim.R =  -0.16755770 [best:  -0.16754305] [0.1 secs] [value_epochs =   0] [policy_epochs =  15] [  0.46 mins] no improvements in 0.0 mins\n",
      "k =   670 of inf: sim.R =  -0.16754092 [best:  -0.16754092] [0.1 secs] [value_epochs =   0] [policy_epochs =  15] [  0.47 mins]\n",
      "k =   680 of inf: sim.R =  -0.16754234 [best:  -0.16754092] [0.0 secs] [value_epochs =   0] [policy_epochs =   7] [  0.48 mins] no improvements in 0.0 mins\n",
      "k =   690 of inf: sim.R =  -0.16753961 [best:  -0.16753961] [0.1 secs] [value_epochs =   0] [policy_epochs =  15] [  0.48 mins]\n",
      "k =   700 of inf: sim.R =  -0.16753671 [best:  -0.16753671] [0.1 secs] [value_epochs =   0] [policy_epochs =   6] [  0.49 mins]\n",
      "k =   710 of inf: sim.R =  -0.16753672 [best:  -0.16753671] [0.0 secs] [value_epochs =   0] [policy_epochs =   6] [  0.49 mins] no improvements in 0.0 mins\n",
      "Terminating after 719 iter, max time 0.5 mins reached\n",
      "R = -0.1675, time = 0.5 mins, iter = 719, policy epochs = 14.34, value epochs = 0.00\n"
     ]
    }
   ],
   "source": [
    "device = 'cpu' # EconDLSolvers.choose_gpu()\n",
    "model_DeepFOC = Model(algoname='DeepFOC',device=device, train={'K_time': 0.5})\n",
    "model_DeepFOC.train.eq_w = torch.tensor([1.0,1.0],dtype=torch.float32,device='cpu') \n",
    "model_DeepFOC.solve(do_print=True)"
   ]
  },
  {
   "cell_type": "markdown",
   "metadata": {},
   "source": [
    "Solve the same model with the endogenous grid method for comparison."
   ]
  },
  {
   "cell_type": "code",
   "execution_count": 42,
   "metadata": {},
   "outputs": [
    {
     "name": "stdout",
     "output_type": "stream",
     "text": [
      "-0.16749737587500668\n"
     ]
    }
   ],
   "source": [
    "dp = BufferStockModelEGMClass(name='DP')\n",
    "dp.solve_EGM()\n",
    "dp.simulate_R()\n",
    "print(dp.sim.R)"
   ]
  },
  {
   "cell_type": "code",
   "execution_count": 43,
   "metadata": {},
   "outputs": [
    {
     "data": {
      "image/png": "[encoded data removed]",
      "text/plain": [
       "<Figure size 1200x600 with 4 Axes>"
      ]
     },
     "metadata": {},
     "output_type": "display_data"
    }
   ],
   "source": [
    "t_range = range(model_DeepFOC.par.T)\n",
    "coh_dl = model_DeepFOC.sim.states[...,0].mean(dim=1).cpu().numpy()\n",
    "consumption_dl = model_DeepFOC.sim.outcomes[...,0].mean(dim=1).cpu().numpy()\n",
    "\n",
    "coh_dp = dp.sim.states[...,0].mean(axis=1)\n",
    "consumption_dp = dp.sim.outcomes[...,0].mean(axis=1)\n",
    "\n",
    "fig, ax = plt.subplots(2,2,figsize=(12,6))\n",
    "\n",
    "ax[0,0].plot(t_range,coh_dl,label='DL')\n",
    "ax[0,0].plot(t_range,coh_dp,label='DP', linestyle = ':')\n",
    "ax[0,0].set_xlabel('t')\n",
    "ax[0,0].set_xticks(t_range)\n",
    "ax[0,0].legend()\n",
    "ax[0,0].set_title('Wealth')\n",
    "\n",
    "ax[0,1].plot(t_range,consumption_dl,label='DL')\n",
    "ax[0,1].plot(t_range,consumption_dp,label='DP', linestyle = ':')\n",
    "ax[0,1].set_xlabel('t')\n",
    "ax[0,1].set_xticks(t_range)\n",
    "ax[0,1].set_title('Consumption')\n",
    "\n",
    "ax[1,0].plot(t_range,model_DeepFOC.sim.states[:,:,1].mean(dim=1).cpu().numpy(),label='DL')\n",
    "ax[1,0].plot(t_range,dp.sim.states[:,:,1].mean(axis=1),label='DL', linestyle = ':')\n",
    "ax[1,0].set_xlabel('t')\n",
    "ax[1,0].set_xticks(t_range)\n",
    "ax[1,0].set_title('Persistent income')\n",
    "\n",
    "ax[1,1].plot(t_range,model_DeepFOC.sim.actions[:,:,0].mean(dim=1).cpu().numpy(),label='DL')\n",
    "ax[1,1].plot(t_range,dp.sim.actions[:,:,0].mean(axis=1),label='DL', linestyle = ':')\n",
    "ax[1,1].set_xlabel('t')\n",
    "ax[1,1].set_xticks(t_range)\n",
    "ax[1,1].set_title('Saving rate')\n",
    "\n",
    "\n",
    "fig.tight_layout()"
   ]
  },
  {
   "cell_type": "code",
   "execution_count": null,
   "metadata": {},
   "outputs": [],
   "source": []
  }
 ],
 "metadata": {
  "kernelspec": {
   "display_name": "base",
   "language": "python",
   "name": "python3"
  },
  "language_info": {
   "codemirror_mode": {
    "name": "ipython",
    "version": 3
   },
   "file_extension": ".py",
   "mimetype": "text/x-python",
   "name": "python",
   "nbconvert_exporter": "python",
   "pygments_lexer": "ipython3",
   "version": "3.12.7"
  }
 },
 "nbformat": 4,
 "nbformat_minor": 2
}
